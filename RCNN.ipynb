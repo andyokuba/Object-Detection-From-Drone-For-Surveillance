{
 "cells": [
  {
   "cell_type": "code",
   "execution_count": 1,
   "id": "6efdb687",
   "metadata": {},
   "outputs": [],
   "source": [
    "# Steps for pre-processing\n",
    "    # data-cleaning\n",
    "    # Feature Selection & Reduction (via compression) -- PCA, etc...\n",
    "    # Normailse"
   ]
  },
  {
   "cell_type": "code",
   "execution_count": 4,
   "id": "1244149e",
   "metadata": {},
   "outputs": [],
   "source": [
    "# Train"
   ]
  },
  {
   "cell_type": "code",
   "execution_count": 5,
   "id": "7fe22c67",
   "metadata": {},
   "outputs": [],
   "source": [
    "# Validate\n",
    "    # hyperparameters tuning\n",
    "    # K Fold CV or LOSO\n",
    "    # Accuracy, Precision, F1 Score and Recall"
   ]
  },
  {
   "cell_type": "code",
   "execution_count": 6,
   "id": "0e04bb0a",
   "metadata": {},
   "outputs": [],
   "source": [
    "# Test"
   ]
  },
  {
   "cell_type": "code",
   "execution_count": 7,
   "id": "5c341872",
   "metadata": {},
   "outputs": [],
   "source": [
    "# Graphical presentation "
   ]
  },
  {
   "cell_type": "code",
   "execution_count": 8,
   "id": "b6818716",
   "metadata": {},
   "outputs": [],
   "source": [
    "# Graphical Comparison"
   ]
  },
  {
   "cell_type": "code",
   "execution_count": null,
   "id": "39d5096f",
   "metadata": {},
   "outputs": [],
   "source": []
  }
 ],
 "metadata": {
  "kernelspec": {
   "display_name": "Python 3 (ipykernel)",
   "language": "python",
   "name": "python3"
  },
  "language_info": {
   "codemirror_mode": {
    "name": "ipython",
    "version": 3
   },
   "file_extension": ".py",
   "mimetype": "text/x-python",
   "name": "python",
   "nbconvert_exporter": "python",
   "pygments_lexer": "ipython3",
   "version": "3.9.12"
  }
 },
 "nbformat": 4,
 "nbformat_minor": 5
}
