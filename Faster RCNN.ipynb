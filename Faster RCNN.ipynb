{
 "cells": [
  {
   "cell_type": "code",
   "execution_count": 1,
   "id": "b802059d",
   "metadata": {},
   "outputs": [],
   "source": [
    "# Steps for pre-processing\n",
    "    # data-cleaning\n",
    "    # Feature Selection & Reduction (via compression) -- PCA, etc...\n",
    "    # Normailse"
   ]
  },
  {
   "cell_type": "code",
   "execution_count": 2,
   "id": "95762a3e",
   "metadata": {},
   "outputs": [],
   "source": [
    "# Train"
   ]
  },
  {
   "cell_type": "code",
   "execution_count": 3,
   "id": "30cfd343",
   "metadata": {},
   "outputs": [],
   "source": [
    "# Validate\n",
    "    # hyperparameters tuning\n",
    "    # K Fold CV or LOSO\n",
    "    # Accuracy, Precision, F1 Score and Recall"
   ]
  },
  {
   "cell_type": "code",
   "execution_count": 4,
   "id": "c78c6245",
   "metadata": {},
   "outputs": [],
   "source": [
    "# Test"
   ]
  },
  {
   "cell_type": "code",
   "execution_count": 5,
   "id": "80454de0",
   "metadata": {},
   "outputs": [],
   "source": [
    "# Graphical presentation "
   ]
  },
  {
   "cell_type": "code",
   "execution_count": null,
   "id": "bfa78a92",
   "metadata": {},
   "outputs": [],
   "source": [
    "# Graphical Comparison"
   ]
  }
 ],
 "metadata": {
  "kernelspec": {
   "display_name": "Python 3 (ipykernel)",
   "language": "python",
   "name": "python3"
  },
  "language_info": {
   "codemirror_mode": {
    "name": "ipython",
    "version": 3
   },
   "file_extension": ".py",
   "mimetype": "text/x-python",
   "name": "python",
   "nbconvert_exporter": "python",
   "pygments_lexer": "ipython3",
   "version": "3.9.12"
  }
 },
 "nbformat": 4,
 "nbformat_minor": 5
}
